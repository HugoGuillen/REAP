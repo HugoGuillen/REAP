{
 "cells": [
  {
   "cell_type": "markdown",
   "metadata": {},
   "source": [
    "# Test sequences for pipeline\n",
    "---\n",
    "### About the data\n",
    "\n",
    "Fasta files were retrieved from Griffith's lab tutorial on RNA-seq https://github.com/griffithlab/rnaseq_tutorial:\n",
    "\n",
    "`Malachi Griffith*, Jason R. Walker, Nicholas C. Spies, Benjamin J. Ainscough, Obi L. Griffith*. 2015. Informatics for RNA-seq: A web resource for analysis on the cloud. PLoS Comp Biol. 11(8):e1004393.`\n",
    "\n",
    "*The practice dataset includes 3 replicates of data from the HCC1395 breast cancer cell line and 3 replicates of data from HCC1395BL matched lymphoblastoid line. So, this will be a tumor vs normal (cell line) comparison. The reads are paired-end 151-mers generated on an Illumina HiSeq instrument. The test data has been pre-filtered for reads that appear to map to chromosome 22.*"
   ]
  },
  {
   "cell_type": "code",
   "execution_count": 1,
   "metadata": {},
   "outputs": [],
   "source": [
    "import sys\n",
    "import os\n",
    "from os import listdir,path\n",
    "import pandas as pd\n",
    "import io\n",
    "import subprocess\n",
    "import json\n",
    "from collections import OrderedDict\n",
    "\n",
    "sequences_url = r'http://genomedata.org/rnaseq-tutorial/practical.tar'\n",
    "\n",
    "output_path = path.abspath('test_data')\n",
    "output_config_file = path.join(output_path,'config.json')\n",
    "output_fasta_path = path.join(output_path,'fastq')\n",
    "output_experimental_design = path.join(output_path,'experimental_design.tsv')\n",
    "annotation_gtf = path.join(output_path,'gencode','gencode.v34.annotation.gtf.gz')\n",
    "reference_fasta = path.join(output_path,'gencode','gencode.v34.transcripts.fa.gz')"
   ]
  },
  {
   "cell_type": "markdown",
   "metadata": {},
   "source": [
    "---\n",
    "# <font color=\"red\">SKIP</font>\n",
    "### Download fasta files"
   ]
  },
  {
   "cell_type": "code",
   "execution_count": 2,
   "metadata": {},
   "outputs": [
    {
     "name": "stdout",
     "output_type": "stream",
     "text": [
      "Process is interrupted.\n"
     ]
    }
   ],
   "source": [
    "%%bash -s \"$sequences_url\" \"$output_path\"\n",
    "mkdir -p \"$2/fastq\"\n",
    "wget \"$1\" -P \"$2/\"\n",
    "tar -C \"$2/fastq/\" -xvf \"$2/practical.tar\"\n",
    "rm \"$2/practical.tar\""
   ]
  },
  {
   "cell_type": "markdown",
   "metadata": {},
   "source": [
    "### Download gencode files"
   ]
  },
  {
   "cell_type": "code",
   "execution_count": null,
   "metadata": {},
   "outputs": [],
   "source": [
    "%%bash -s \"$output_path\"\n",
    "gencode_path=\"$1/gencode\"\n",
    "mkdir -p \"$gencode_path\"\n",
    "cd \"$gencode_path\"\n",
    "wget \"ftp://ftp.ebi.ac.uk/pub/databases/gencode/Gencode_human/release_34/gencode.v34.annotation.gtf.gz\"\n",
    "wget \"ftp://ftp.ebi.ac.uk/pub/databases/gencode/Gencode_human/release_34/gencode.v34.transcripts.fa.gz\""
   ]
  },
  {
   "cell_type": "markdown",
   "metadata": {},
   "source": [
    "---\n",
    "# <font color=\"green\">GO</font>\n",
    "### Create template for configuration files"
   ]
  },
  {
   "cell_type": "code",
   "execution_count": 3,
   "metadata": {},
   "outputs": [],
   "source": [
    "def create_config_stub(output_config_file,fastq_path,experimental_design,annotation_gtf,reference_fasta,\n",
    "                       project_name='test',group='',email='',                       \n",
    "                       extension_fastq='fastq.gz',delim_fastq_name='_',suffix_mate1='R1',suffix_mate2='R2',\n",
    "                       star_reference='',star_threads='8',star_RAM='40000000000',star_sort_RAM='40000000000',\n",
    "                       sort_mem='16G',samtools_sortByName_threads='4',\n",
    "                       conda_path=None,env_name=None,generate_design=False,design_condition_parser=None):\n",
    "    data = OrderedDict()\n",
    "    data['project_name']=project_name\n",
    "    data['group']=group\n",
    "    data['email']=email\n",
    "    data['fastqFolder']=fastq_path if fastq_path[-1]=='/' else fastq_path+'/'\n",
    "    data['extension']=extension_fastq\n",
    "    data['delim']=delim_fastq_name\n",
    "    data['mates']={'mate1':suffix_mate1,'mate2':suffix_mate2}\n",
    "    data['gtf']=annotation_gtf\n",
    "    data['reference_fasta']=reference_fasta\n",
    "    data['experimental_design']=experimental_design\n",
    "    #~~~STAR\n",
    "    data['star_reference']=star_reference\n",
    "    data['star_threads']=star_threads\n",
    "    data['star_RAM']=star_RAM\n",
    "    data['star_sort_RAM']=star_sort_RAM\n",
    "    #~~~SAMTOOLS\n",
    "    data['sort_mem']=sort_mem\n",
    "    data['samtools_sortByName_threads']=samtools_sortByName_threads\n",
    "    \n",
    "    #~~~Get from conda env\n",
    "    if env_name is not None and conda_path is not None:        \n",
    "        call = '%s list -n %s'%(path.join(conda_path,'bin','conda'),env_name)        \n",
    "        s = subprocess.check_output(call,shell=True).decode()        \n",
    "        df = pd.read_csv(io.StringIO(s),header=None,skiprows=4,sep=r'\\s+',\n",
    "                        names=['package','version','build','channel']).set_index('package')        \n",
    "        for script in ['r','star','bedtools','samtools','deeptools','stringtie','scallop','kallisto','qualimap']:\n",
    "            data[script+'_version'] = df.loc[script]['version']    \n",
    "    with open(output_config_file,'w') as f:\n",
    "        f.write(json.dumps(data,indent=4))\n",
    "    print('# Wrote',output_config_file)\n",
    "    if generate_design:\n",
    "        rows = []\n",
    "        fa_files = sorted([x for x in listdir(data['fastqFolder']) if x.endswith(data['extension'])])\n",
    "        for fa_file in fa_files:\n",
    "            sample = data['delim'].join(fa_file.replace('.'+data['extension'],'').split(data['delim'])[:-1])\n",
    "            if design_condition_parser is not None:\n",
    "                condition = design_condition_parser(fa_file)\n",
    "            rows.append((sample,condition))                        \n",
    "        df = pd.DataFrame(rows,columns=['sample','condition']).drop_duplicates(keep='first')\n",
    "        df.to_csv(experimental_design,sep='\\t',index=None)\n",
    "        print('# Wrote',experimental_design)\n",
    "    return data"
   ]
  },
  {
   "cell_type": "code",
   "execution_count": 4,
   "metadata": {},
   "outputs": [
    {
     "name": "stdout",
     "output_type": "stream",
     "text": [
      "# Wrote /home/hugo/software/REAP/test_data/config.json\n",
      "# Wrote /home/hugo/software/REAP/test_data/experimental_design.tsv\n"
     ]
    }
   ],
   "source": [
    "conda_path = r'~/anaconda3/'\n",
    "env_name = 'REAP'\n",
    "\n",
    "conf = create_config_stub(output_config_file=output_config_file,fastq_path=output_fasta_path,\n",
    "                   experimental_design=output_experimental_design,\n",
    "                   annotation_gtf=annotation_gtf,reference_fasta=reference_fasta,\n",
    "                   project_name='test_project',group='test_group',email='',\n",
    "                   extension_fastq='fastq.gz',delim_fastq_name='_',suffix_mate1='r1',suffix_mate2='r2',\n",
    "                    star_reference='',\n",
    "                   conda_path=conda_path,env_name=env_name,\n",
    "                    generate_design=True,design_condition_parser=(lambda x:x.split('_')[1]))"
   ]
  },
  {
   "cell_type": "code",
   "execution_count": null,
   "metadata": {},
   "outputs": [],
   "source": []
  }
 ],
 "metadata": {
  "kernelspec": {
   "display_name": "Python 3",
   "language": "python",
   "name": "python3"
  },
  "language_info": {
   "codemirror_mode": {
    "name": "ipython",
    "version": 3
   },
   "file_extension": ".py",
   "mimetype": "text/x-python",
   "name": "python",
   "nbconvert_exporter": "python",
   "pygments_lexer": "ipython3",
   "version": "3.7.6"
  }
 },
 "nbformat": 4,
 "nbformat_minor": 4
}
