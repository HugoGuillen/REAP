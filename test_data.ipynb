{
 "cells": [
  {
   "cell_type": "markdown",
   "metadata": {},
   "source": [
    "# Test sequences for pipeline\n",
    "---\n",
    "### About the data\n",
    "\n",
    "Fasta files were retrieved from Griffith's lab tutorial on RNA-seq https://github.com/griffithlab/rnaseq_tutorial:\n",
    "\n",
    "`Malachi Griffith*, Jason R. Walker, Nicholas C. Spies, Benjamin J. Ainscough, Obi L. Griffith*. 2015. Informatics for RNA-seq: A web resource for analysis on the cloud. PLoS Comp Biol. 11(8):e1004393.`\n",
    "\n",
    "*The practice dataset includes 3 replicates of data from the HCC1395 breast cancer cell line and 3 replicates of data from HCC1395BL matched lymphoblastoid line. So, this will be a tumor vs normal (cell line) comparison. The reads are paired-end 151-mers generated on an Illumina HiSeq instrument. The test data has been pre-filtered for reads that appear to map to chromosome 22.*"
   ]
  },
  {
   "cell_type": "code",
   "execution_count": 3,
   "metadata": {},
   "outputs": [],
   "source": [
    "import sys\n",
    "import os\n",
    "from os import listdir,path\n",
    "import subprocess\n",
    "\n",
    "output_path = path.abspath('test_data')\n",
    "sequences_url = r'http://genomedata.org/rnaseq-tutorial/practical.tar'"
   ]
  },
  {
   "cell_type": "markdown",
   "metadata": {},
   "source": [
    "### Download fasta files"
   ]
  },
  {
   "cell_type": "code",
   "execution_count": 12,
   "metadata": {},
   "outputs": [
    {
     "name": "stdout",
     "output_type": "stream",
     "text": [
      "tar -C /home/hugo/software/REAP/test_data/fastq/ -xvf /home/hugo/software/REAP/test_data/practical.tar\n",
      "rm /home/hugo/software/REAP/test_data/practical.tar\n"
     ]
    }
   ],
   "source": [
    "%%bash -s \"$sequences_url\" \"$output_path\"\n",
    "mkdir -p \"$2/fastq\"\n",
    "wget \"$1\" -P \"$2/\"\n",
    "tar -C \"$2/fastq/\" -xvf \"$2/practical.tar\"\n",
    "rm \"$2/practical.tar\""
   ]
  },
  {
   "cell_type": "code",
   "execution_count": null,
   "metadata": {},
   "outputs": [],
   "source": []
  }
 ],
 "metadata": {
  "kernelspec": {
   "display_name": "Python 3",
   "language": "python",
   "name": "python3"
  },
  "language_info": {
   "codemirror_mode": {
    "name": "ipython",
    "version": 3
   },
   "file_extension": ".py",
   "mimetype": "text/x-python",
   "name": "python",
   "nbconvert_exporter": "python",
   "pygments_lexer": "ipython3",
   "version": "3.7.6"
  }
 },
 "nbformat": 4,
 "nbformat_minor": 4
}
