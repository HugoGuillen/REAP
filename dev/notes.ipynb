{
 "cells": [
  {
   "cell_type": "markdown",
   "metadata": {},
   "source": [
    "# Init environment\n",
    "\n",
    "```bash\n",
    ". ~/anaconda3/etc/profile.d/conda.sh\n",
    "conda activate REAP\n",
    "cd /home/hugo/software/REAP/dev\n",
    "```\n",
    "---\n",
    "### Stack Overflow channel\n",
    "https://stackoverflow.com/questions/tagged/snakemake\n",
    "\n",
    "---\n",
    "### Only a set of wildcards\n",
    "https://stackoverflow.com/questions/61677339/snakemake-expanding-only-a-subset-of-wildcards\n",
    "```bash\n",
    "snakemake -n -r -p --debug-dag -s set_of_wildcards\n",
    "```\n",
    "\n"
   ]
  },
  {
   "cell_type": "code",
   "execution_count": null,
   "metadata": {},
   "outputs": [],
   "source": []
  }
 ],
 "metadata": {
  "kernelspec": {
   "display_name": "Python 3",
   "language": "python",
   "name": "python3"
  },
  "language_info": {
   "codemirror_mode": {
    "name": "ipython",
    "version": 3
   },
   "file_extension": ".py",
   "mimetype": "text/x-python",
   "name": "python",
   "nbconvert_exporter": "python",
   "pygments_lexer": "ipython3",
   "version": "3.7.6"
  }
 },
 "nbformat": 4,
 "nbformat_minor": 4
}
