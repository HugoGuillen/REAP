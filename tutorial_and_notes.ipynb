{
 "cells": [
  {
   "cell_type": "code",
   "execution_count": 3,
   "metadata": {},
   "outputs": [],
   "source": [
    "import sys\n",
    "import os\n",
    "from os import listdir,path\n",
    "import subprocess"
   ]
  },
  {
   "cell_type": "markdown",
   "metadata": {},
   "source": [
    "This pipeline relies heavily in `snakemake`.\n",
    "<font color=\"red\">NOTE:</font> before running the pipeline, make sure everything is correct by running from inside the REAP directory:\n",
    "```bash\n",
    "snakemake --dryrun -s crop --configfile <CONFIG_FILE>\n",
    "```\n",
    "\n",
    "```bash\n",
    "snakemake --dryrun -s crop --configfile test_data/config.json\n",
    "```\n",
    "\n",
    "---\n",
    "## Setup \n",
    "Create new environment. This is recommended since `snakemake` works on Python 3.6\n",
    "```bash\n",
    "~/anaconda3/bin/conda config --add channels defaults\n",
    "~/anaconda3/bin/conda config --add channels bioconda\n",
    "~/anaconda3/bin/conda config --add channels conda-forge\n",
    "\n",
    "~/anaconda3/bin/conda create -n REAP --yes python snakemake\n",
    "\n",
    "```\n",
    "\n",
    "Activate conda environment\n",
    "```bash\n",
    ". ~/anaconda3/etc/profile.d/conda.sh\n",
    "conda activate REAP\n",
    "```"
   ]
  },
  {
   "cell_type": "markdown",
   "metadata": {},
   "source": [
    "---\n",
    "# Configuration file\n",
    "\n",
    "```json\n",
    "{\n",
    "\t\"project_name\" : <your project name>, \n",
    "\t\"group\" : <your group name>, \n",
    "\t\"email\" : <your email>,\n",
    "\n",
    "\t\"fastqFolder\" : <path to input fastqFolder>,\n",
    "\t\"extension\" : <extension for files [\"fastq.gz\"|\"fa\"|...],\n",
    "\t\"delim\" : <in fastq files, delimiter of name and pair id (for paired reads) [\"_\"|\" \"|...]>,\n",
    "\t\"mates\" : { \n",
    "\t\t\"mate1\" : \"R1\", \n",
    "\t\t\"mate2\" : \"R2\" \n",
    "\t}, \n",
    "\t\"gtf\" : <path to annotation gtf>,\n",
    "\t\"reference_fasta\" : <path to reference fasta>,\n",
    "\t\"star_reference\" : \"\",\n",
    "\t\"star_threads\" : \"8\",\n",
    "\t\"star_version\" : \"2.6.0c\",\n",
    "\t\"star_RAM\": \"40000000000\",\n",
    "\t\"star_sort_RAM\": \"40000000000\",\n",
    "\t\"sort_mem\" : \"16G\",\n",
    "\t\"samtools_sortByName_threads\" : \"4\",\n",
    "\t\"samtools_version\" : \"1.3\",\n",
    "\t\"deeptools_version\" : \"2.5.4\",\n",
    "\t\"stringtie_version\" : \"1.3.3b\",\n",
    "\t\"scallop_version\" : \"1.2.3\",\n",
    "\t\"taco_version\" : \"1.2.3\",\n",
    "\t\"kallisto_version\" : \"0.44.0\",\n",
    "\t\"fragment_length\" : \"200\",\n",
    "\t\"standard_deviation\" : \"30\",\n",
    "\t\"library_preparation\" : \"reverse\",\n",
    "\t\"bedtools_version\" : \"2.26.0\",\n",
    "\t\"experimental_design\" : \"/home/carlos/remoteDir/data/projects/p283_rna_and_disease/projects/sinergia/sinergia/sinergia_test/experimental_design_test.txt\", \t\n",
    "\t\"R_version\" : \"3.5.1\",\n",
    "\t\"R_path\" : \"/software/R/3.5.1/bin/R\",\n",
    "\t\"novel_assembly\" : \"1\",\n",
    "\t\"qualimap\" : \"/mnt/apps/qualimap_v2.2.1/qualimap\",\n",
    "\t\"rseqc_version\" : \"2.6.1\", \t\n",
    "\t\"biomart_db\" : \"mmusculus_gene_ensembl\", \n",
    "\t\"strand\" : \"2\", \n",
    "\t\"feature_type\" : \"exon\", \n",
    "\t\"meta_feature\" : \"gene_id\", \n",
    "\t\"min_mapQ\" : \"10\"\n",
    "}\n",
    "```"
   ]
  },
  {
   "cell_type": "code",
   "execution_count": null,
   "metadata": {},
   "outputs": [],
   "source": []
  }
 ],
 "metadata": {
  "kernelspec": {
   "display_name": "Python 3",
   "language": "python",
   "name": "python3"
  },
  "language_info": {
   "codemirror_mode": {
    "name": "ipython",
    "version": 3
   },
   "file_extension": ".py",
   "mimetype": "text/x-python",
   "name": "python",
   "nbconvert_exporter": "python",
   "pygments_lexer": "ipython3",
   "version": "3.7.6"
  }
 },
 "nbformat": 4,
 "nbformat_minor": 4
}
